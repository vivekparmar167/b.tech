{
 "cells": [
  {
   "cell_type": "markdown",
   "metadata": {},
   "source": [
    "\n",
    "<a href='https://www.darshan.ac.in/'> <img src='https://www.darshan.ac.in/Content/media/DU_Logo.svg' width=\"250\" height=\"300\"/></a>\n",
    "<pre>\n",
    "<center><b><h1>Python Programming - 2301CS404</b></center>\n",
    "<center><b><h1>Lab - 2</b></center> <br>\n",
    "<center><h1>Bhavya Doshi | 24010101630 | 05-12-2024</h1></center>\n",
    "<pre>"
   ]
  },
  {
   "cell_type": "markdown",
   "metadata": {},
   "source": [
    "# if..else.."
   ]
  },
  {
   "cell_type": "markdown",
   "metadata": {},
   "source": [
    "### 01) WAP to check whether the given number is positive or negative."
   ]
  },
  {
   "cell_type": "code",
   "execution_count": 18,
   "metadata": {},
   "outputs": [
    {
     "name": "stdin",
     "output_type": "stream",
     "text": [
      "Enter number :  7\n"
     ]
    },
    {
     "name": "stdout",
     "output_type": "stream",
     "text": [
      "Positive Number\n"
     ]
    }
   ],
   "source": [
    "n = int(input(\"Enter number : \"))\n",
    "if n < 0:\n",
    "    print(\"Negative Number\")\n",
    "elif n == 0:\n",
    "    print(\"0 is neither negative number nor positive number\")\n",
    "else: \n",
    "    print(\"Positive Number\")"
   ]
  },
  {
   "cell_type": "markdown",
   "metadata": {},
   "source": [
    "### 02) WAP to check whether the given number is odd or even."
   ]
  },
  {
   "cell_type": "code",
   "execution_count": 28,
   "metadata": {},
   "outputs": [
    {
     "name": "stdin",
     "output_type": "stream",
     "text": [
      "Enter number :  7\n"
     ]
    },
    {
     "name": "stdout",
     "output_type": "stream",
     "text": [
      "Odd number\n"
     ]
    }
   ],
   "source": [
    "n = int(input(\"Enter number : \"))\n",
    "if n%2 == 0:\n",
    "    print(\"Even number\")\n",
    "else:\n",
    "    print(\"Odd number\")"
   ]
  },
  {
   "cell_type": "markdown",
   "metadata": {},
   "source": [
    "### 03) WAP to find out largest number from given two numbers using simple if and ternary operator."
   ]
  },
  {
   "cell_type": "code",
   "execution_count": 40,
   "metadata": {},
   "outputs": [
    {
     "name": "stdin",
     "output_type": "stream",
     "text": [
      "Enter number 1:  8\n",
      "Enter number 2:  11\n"
     ]
    },
    {
     "name": "stdout",
     "output_type": "stream",
     "text": [
      "11 is maximum\n"
     ]
    }
   ],
   "source": [
    "n = int(input(\"Enter number 1: \"))\n",
    "m = int(input(\"Enter number 2: \"))\n",
    "\n",
    "Max = f\"{n} is maximum\" if n>m else f\"{m} is maximum\"\n",
    "print(Max)"
   ]
  },
  {
   "cell_type": "markdown",
   "metadata": {},
   "source": [
    "### 04) WAP to find out largest number from given three numbers."
   ]
  },
  {
   "cell_type": "code",
   "execution_count": 44,
   "metadata": {},
   "outputs": [
    {
     "name": "stdin",
     "output_type": "stream",
     "text": [
      "Enter number 1:  6\n",
      "Enter number 2:  7\n",
      "Enter number 3:  2\n"
     ]
    },
    {
     "name": "stdout",
     "output_type": "stream",
     "text": [
      "7 is largest\n"
     ]
    }
   ],
   "source": [
    "n = int(input(\"Enter number 1: \"))\n",
    "m = int(input(\"Enter number 2: \"))\n",
    "o = int(input(\"Enter number 3: \"))\n",
    "\n",
    "if n>m and n>o:\n",
    "    print(f\"{n} is largest\")\n",
    "elif m>n and m>o:\n",
    "    print(f\"{m} is largest\")\n",
    "else:\n",
    "    print(f\"{o} is the largest\")"
   ]
  },
  {
   "cell_type": "markdown",
   "metadata": {},
   "source": [
    "### 05) WAP to check whether the given year is leap year or not.\n",
    "[If a year can be divisible by 4 but not divisible by 100 then it is leap year but if it is divisible by 400 then it is leap year]"
   ]
  },
  {
   "cell_type": "code",
   "execution_count": 60,
   "metadata": {},
   "outputs": [
    {
     "name": "stdin",
     "output_type": "stream",
     "text": [
      "Enter year:  2024\n"
     ]
    },
    {
     "name": "stdout",
     "output_type": "stream",
     "text": [
      "Leap Year\n"
     ]
    }
   ],
   "source": [
    "Y = int(input(\"Enter year: \"))\n",
    "if (Y % 400 == 0) or (Y % 4 == 0 and Y % 100 != 0):\n",
    "    print(\"Leap Year\")\n",
    "else:\n",
    "    print(\"Not leap year\")"
   ]
  },
  {
   "cell_type": "markdown",
   "metadata": {},
   "source": [
    "### 06) WAP in python to display the name of the day according to the number given by the user."
   ]
  },
  {
   "cell_type": "code",
   "execution_count": 65,
   "metadata": {},
   "outputs": [
    {
     "name": "stdin",
     "output_type": "stream",
     "text": [
      "Enter a number (1-7):  5\n"
     ]
    },
    {
     "name": "stdout",
     "output_type": "stream",
     "text": [
      "The day is: Friday\n"
     ]
    }
   ],
   "source": [
    "day_number = int(input(\"Enter a number (1-7): \"))\n",
    "if day_number == 1:\n",
    "    print(\"The day is: Monday\")\n",
    "elif day_number == 2:\n",
    "    print(\"The day is: Tuesday\")\n",
    "elif day_number == 3:\n",
    "    print(\"The day is: Wednesday\")\n",
    "elif day_number == 4:\n",
    "    print(\"The day is: Thursday\")\n",
    "elif day_number == 5:\n",
    "    print(\"The day is: Friday\")\n",
    "elif day_number == 6:\n",
    "    print(\"The day is: Saturday\")\n",
    "elif day_number == 7:\n",
    "    print(\"The day is: Sunday\")\n",
    "else:\n",
    "    print(\"Invalid input! Please enter a number between 1 and 7.\")\n"
   ]
  },
  {
   "cell_type": "markdown",
   "metadata": {},
   "source": [
    "### 07) WAP to implement simple calculator which performs (add,sub,mul,div) of two no. based on user input."
   ]
  },
  {
   "cell_type": "code",
   "execution_count": 68,
   "metadata": {},
   "outputs": [
    {
     "name": "stdin",
     "output_type": "stream",
     "text": [
      "Enter the first number:  7\n",
      "Enter the second number:  6\n"
     ]
    },
    {
     "name": "stdout",
     "output_type": "stream",
     "text": [
      "\n",
      "Select operation:\n",
      "1. Addition (+)\n",
      "2. Subtraction (-)\n",
      "3. Multiplication (*)\n",
      "4. Division (/)\n"
     ]
    },
    {
     "name": "stdin",
     "output_type": "stream",
     "text": [
      "\n",
      "Enter your choice (1/2/3/4):  3\n"
     ]
    },
    {
     "name": "stdout",
     "output_type": "stream",
     "text": [
      "The result of multiplication is: 42.0\n"
     ]
    }
   ],
   "source": [
    "n = float(input(\"Enter the first number: \"))\n",
    "m = float(input(\"Enter the second number: \"))\n",
    "\n",
    "print(\"\\nSelect operation:\")\n",
    "print(\"1. Addition (+)\")\n",
    "print(\"2. Subtraction (-)\")\n",
    "print(\"3. Multiplication (*)\")\n",
    "print(\"4. Division (/)\")\n",
    "\n",
    "choice = input(\"\\nEnter your choice (1/2/3/4): \")\n",
    "\n",
    "if choice == '1':\n",
    "    print(f\"The result of addition is: {n + m}\")\n",
    "elif choice == '2':\n",
    "    print(f\"The result of subtraction is: {n - m}\")\n",
    "elif choice == '3':\n",
    "    print(f\"The result of multiplication is: {n * m}\")\n",
    "elif choice == '4':\n",
    "    if num2 != 0:\n",
    "        print(f\"The result of division is: {n / m}\")\n",
    "    else:\n",
    "        print(\"Error: Division by zero is not allowed.\")\n",
    "else:\n",
    "    print(\"Invalid input! Please select a valid operation.\")\n"
   ]
  },
  {
   "cell_type": "markdown",
   "metadata": {},
   "source": [
    "### 08) WAP to read marks of five subjects. Calculate percentage and print class accordingly. \n",
    "Fail below 35 </br>\n",
    "Pass Class between 35 to 45 </br>\n",
    "Second Class</br>\n",
    "between 45 to 60</br>\n",
    "First Class between 60 to 70</br> \n",
    "Distinction if more than 70"
   ]
  },
  {
   "cell_type": "code",
   "execution_count": 70,
   "metadata": {},
   "outputs": [
    {
     "name": "stdout",
     "output_type": "stream",
     "text": [
      "Enter marks for five subjects:\n"
     ]
    },
    {
     "name": "stdin",
     "output_type": "stream",
     "text": [
      "Subject 1:  50\n",
      "Subject 2:  40\n",
      "Subject 3:  65\n",
      "Subject 4:  53\n",
      "Subject 5:  59\n"
     ]
    },
    {
     "name": "stdout",
     "output_type": "stream",
     "text": [
      "\n",
      "Percentage: 53.40%\n",
      "Second Class\n"
     ]
    }
   ],
   "source": [
    "print(\"Enter marks for five subjects:\")\n",
    "subject1 = float(input(\"Subject 1: \"))\n",
    "subject2 = float(input(\"Subject 2: \"))\n",
    "subject3 = float(input(\"Subject 3: \"))\n",
    "subject4 = float(input(\"Subject 4: \"))\n",
    "subject5 = float(input(\"Subject 5: \"))\n",
    "\n",
    "total_marks = subject1 + subject2 + subject3 + subject4 + subject5\n",
    "percentage = (total_marks / 500) * 100 \n",
    "\n",
    "print(f\"\\nPercentage: {percentage:.2f}%\")\n",
    "\n",
    "if percentage < 35:\n",
    "    print(\"Fail\")\n",
    "elif 35 <= percentage < 45:\n",
    "    print(\"Pass Class\")\n",
    "elif 45 <= percentage < 60:\n",
    "    print(\"Second Class\")\n",
    "elif 60 <= percentage < 70:\n",
    "    print(\"First Class\")\n",
    "else:\n",
    "    print(\"Distinction\")\n"
   ]
  },
  {
   "cell_type": "markdown",
   "metadata": {},
   "source": [
    "### 09) Three sides of a triangle are entered through the keyboard, WAP to check whether the triangle is isosceles, equilateral, scalene or right-angled triangle."
   ]
  },
  {
   "cell_type": "code",
   "execution_count": 76,
   "metadata": {},
   "outputs": [
    {
     "name": "stdout",
     "output_type": "stream",
     "text": [
      "Enter the three sides of the triangle:\n"
     ]
    },
    {
     "name": "stdin",
     "output_type": "stream",
     "text": [
      "Side 1:  7\n",
      "Side 2:  7\n",
      "Side 3:  7\n"
     ]
    },
    {
     "name": "stdout",
     "output_type": "stream",
     "text": [
      "The triangle is Equilateral.\n"
     ]
    }
   ],
   "source": [
    "print(\"Enter the three sides of the triangle:\")\n",
    "a = float(input(\"Side 1: \"))\n",
    "b = float(input(\"Side 2: \"))\n",
    "c = float(input(\"Side 3: \"))\n",
    "\n",
    "# Check if the sides form a valid triangle\n",
    "if a + b > c and a + c > b and b + c > a:\n",
    "    # Check for Equilateral triangle (all sides equal)\n",
    "    if a == b == c:\n",
    "        print(\"The triangle is Equilateral.\")\n",
    "    # Check for Isosceles triangle (any two sides equal)\n",
    "    elif a == b or b == c or a == c:\n",
    "        print(\"The triangle is Isosceles.\")\n",
    "    # Check for Right-angled triangle (Pythagoras theorem)\n",
    "    elif a**2 + b**2 == c**2 or b**2 + c**2 == a**2 or c**2 + a**2 == b**2:\n",
    "        print(\"The triangle is Right-angled.\")\n",
    "    # If none of the above, it is Scalene (all sides different)\n",
    "    else:\n",
    "        print(\"The triangle is Scalene.\")\n",
    "else:\n",
    "    print(\"The sides do not form a valid triangle.\")\n"
   ]
  },
  {
   "cell_type": "markdown",
   "metadata": {},
   "source": [
    "### 10) WAP to find the second largest number among three user input numbers."
   ]
  },
  {
   "cell_type": "code",
   "execution_count": 78,
   "metadata": {},
   "outputs": [
    {
     "name": "stdout",
     "output_type": "stream",
     "text": [
      "Enter three numbers:\n"
     ]
    },
    {
     "name": "stdin",
     "output_type": "stream",
     "text": [
      "Number 1:  8\n",
      "Number 2:  7\n",
      "Number 3:  6\n"
     ]
    },
    {
     "name": "stdout",
     "output_type": "stream",
     "text": [
      "The second largest number is: 7.0\n"
     ]
    }
   ],
   "source": [
    "print(\"Enter three numbers:\")\n",
    "num1 = float(input(\"Number 1: \"))\n",
    "num2 = float(input(\"Number 2: \"))\n",
    "num3 = float(input(\"Number 3: \"))\n",
    "\n",
    "if (num1 > num2 and num1 < num3) or (num1 > num3 and num1 < num2):\n",
    "    second_largest = num1\n",
    "elif (num2 > num1 and num2 < num3) or (num2 > num3 and num2 < num1):\n",
    "    second_largest = num2\n",
    "else:\n",
    "    second_largest = num3\n",
    "\n",
    "print(f\"The second largest number is: {second_largest}\")\n"
   ]
  },
  {
   "cell_type": "markdown",
   "metadata": {},
   "source": [
    "### 11) WAP to calculate electricity bill based on following criteria. Which takes the unit from the user.\n",
    "a. First 1 to 50 units – Rs. 2.60/unit</br>\n",
    "b. Next 50 to 100 units – Rs. 3.25/unit</br>\n",
    "c. Next 100 to 200 units – Rs. 5.26/unit</br>\n",
    "d. above 200 units – Rs. 8.45/unit"
   ]
  },
  {
   "cell_type": "code",
   "execution_count": 90,
   "metadata": {},
   "outputs": [
    {
     "name": "stdin",
     "output_type": "stream",
     "text": [
      "Enter the number of units consumed:  150\n"
     ]
    },
    {
     "name": "stdout",
     "output_type": "stream",
     "text": [
      "The total electricity bill is: Rs. 555.50\n"
     ]
    }
   ],
   "source": [
    "units = float(input(\"Enter the number of units consumed: \"))\n",
    "\n",
    "bill = 0.0\n",
    "\n",
    "if units <= 50:\n",
    "    bill = units * 2.60\n",
    "elif units <= 100 and units >= 50:\n",
    "    bill = (50 * 2.60) + ((units - 50) * 3.25)\n",
    "elif units <= 200 and units >= 100:\n",
    "    bill = (50 * 2.60) + (50 * 3.25) + ((units - 100) * 5.26)\n",
    "else:\n",
    "    bill = (50 * 2.60) + (50 * 3.25) + (100 * 5.26) + ((units - 200) * 8.45)\n",
    "\n",
    "print(f\"The total electricity bill is: Rs. {bill:.2f}\")"
   ]
  }
 ],
 "metadata": {
  "kernelspec": {
   "display_name": "Python 3 (ipykernel)",
   "language": "python",
   "name": "python3"
  },
  "language_info": {
   "codemirror_mode": {
    "name": "ipython",
    "version": 3
   },
   "file_extension": ".py",
   "mimetype": "text/x-python",
   "name": "python",
   "nbconvert_exporter": "python",
   "pygments_lexer": "ipython3",
   "version": "3.10.9"
  }
 },
 "nbformat": 4,
 "nbformat_minor": 4
}
