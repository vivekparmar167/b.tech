{
 "cells": [
  {
   "cell_type": "markdown",
   "metadata": {},
   "source": [
    "\n",
    "<a href='https://www.darshan.ac.in/'> <img src='https://www.darshan.ac.in/Content/media/DU_Logo.svg' width=\"250\" height=\"300\"/></a>\n",
    "<pre>\n",
    "<center><b><h1>Python Programming - 2301CS404</b></center>\n",
    "<center><b><h1>Bhavya Doshi - 24010101630</b></center>\n",
    "<center><b><h1>Lab - 3</b></center>    \n",
    "<pre>"
   ]
  },
  {
   "cell_type": "markdown",
   "metadata": {},
   "source": [
    "# for and while loop"
   ]
  },
  {
   "cell_type": "markdown",
   "metadata": {},
   "source": [
    "### 01) WAP to print 1 to 10."
   ]
  },
  {
   "cell_type": "code",
   "execution_count": 3,
   "metadata": {},
   "outputs": [
    {
     "name": "stdout",
     "output_type": "stream",
     "text": [
      "Using While Loop\n",
      "1\n",
      "2\n",
      "3\n",
      "4\n",
      "5\n",
      "6\n",
      "7\n",
      "8\n",
      "9\n",
      "10\n",
      "-------------\n",
      "Using For Loop\n",
      "1\n",
      "2\n",
      "3\n",
      "4\n",
      "5\n",
      "6\n",
      "7\n",
      "8\n",
      "9\n",
      "10\n"
     ]
    }
   ],
   "source": [
    "print(\"Using While Loop\")\n",
    "i = 1\n",
    "while i <= 10:\n",
    "    print(i)\n",
    "    i = i + 1\n",
    "\n",
    "print(\"-------------\")\n",
    "\n",
    "print(\"Using For Loop\")\n",
    "for x in range(1,11):\n",
    "  print(x) "
   ]
  },
  {
   "cell_type": "markdown",
   "metadata": {},
   "source": [
    "### 02) WAP to print 1 to n."
   ]
  },
  {
   "cell_type": "code",
   "execution_count": 6,
   "metadata": {},
   "outputs": [
    {
     "name": "stdout",
     "output_type": "stream",
     "text": [
      "Enter number :5\n",
      "1\n",
      "2\n",
      "3\n",
      "4\n",
      "5\n"
     ]
    }
   ],
   "source": [
    "n = int(input(\"Enter number :\"))\n",
    "\n",
    "for i in range(1,n + 1):\n",
    "  print(i) "
   ]
  },
  {
   "cell_type": "markdown",
   "metadata": {},
   "source": [
    "### 03) WAP to print odd numbers between 1 to n."
   ]
  },
  {
   "cell_type": "code",
   "execution_count": 7,
   "metadata": {},
   "outputs": [
    {
     "name": "stdout",
     "output_type": "stream",
     "text": [
      "Enter number :10\n",
      "1\n",
      "3\n",
      "5\n",
      "7\n",
      "9\n"
     ]
    }
   ],
   "source": [
    "n = int(input(\"Enter number :\"))\n",
    "\n",
    "for i in range (1, n + 1, 2):\n",
    "    print(i)"
   ]
  },
  {
   "cell_type": "markdown",
   "metadata": {},
   "source": [
    "### 04) WAP to print numbers between two given numbers which is divisible by 2 but not divisible by 3."
   ]
  },
  {
   "cell_type": "code",
   "execution_count": 8,
   "metadata": {},
   "outputs": [
    {
     "name": "stdout",
     "output_type": "stream",
     "text": [
      "Enter number :10\n",
      "Enter number :20\n",
      "12\n",
      "18\n"
     ]
    }
   ],
   "source": [
    "a = int(input(\"Enter number :\"))\n",
    "b = int(input(\"Enter number :\"))\n",
    "\n",
    "for i in range (a, b + 1):\n",
    "    if i % 2 == 0 and i % 3 == 0:\n",
    "        print(i)"
   ]
  },
  {
   "cell_type": "markdown",
   "metadata": {},
   "source": [
    "### 05) WAP to print sum of 1 to n numbers."
   ]
  },
  {
   "cell_type": "code",
   "execution_count": 9,
   "metadata": {},
   "outputs": [
    {
     "name": "stdout",
     "output_type": "stream",
     "text": [
      "Enter Number :10\n",
      "Sum is : 55\n"
     ]
    }
   ],
   "source": [
    "n = int(input(\"Enter Number :\"))\n",
    "sum = 0\n",
    "for i in range(1, n + 1):\n",
    "    sum = sum + i\n",
    "print(\"Sum is :\",sum)"
   ]
  },
  {
   "cell_type": "markdown",
   "metadata": {},
   "source": [
    "### 06) WAP to print sum of series 1 + 4 + 9 + 16 + 25 + 36 + ...n."
   ]
  },
  {
   "cell_type": "code",
   "execution_count": 12,
   "metadata": {},
   "outputs": [
    {
     "name": "stdout",
     "output_type": "stream",
     "text": [
      "Enter Number :2\n",
      "Sum of Series is : 5\n"
     ]
    }
   ],
   "source": [
    "n = int(input(\"Enter Number :\"))\n",
    "sum = 0\n",
    "\n",
    "for i in range(1, n + 1):\n",
    "    sum += i * i\n",
    "print(\"Sum of Series is :\",sum)"
   ]
  },
  {
   "cell_type": "markdown",
   "metadata": {},
   "source": [
    "### 07) WAP to print sum of series 1 – 2 + 3 – 4 + 5 – 6 + 7 ... n."
   ]
  },
  {
   "cell_type": "code",
   "execution_count": 13,
   "metadata": {},
   "outputs": [
    {
     "name": "stdout",
     "output_type": "stream",
     "text": [
      "Enter Number :5\n",
      "Sum of series 1 – 2 + 3 – 4 + 5 – 6 + 7 ... n : 3\n"
     ]
    }
   ],
   "source": [
    "n = int(input(\"Enter Number :\"))\n",
    "sum = 0\n",
    "\n",
    "for i in range(1, n + 1):\n",
    "    if i % 2 == 0:\n",
    "        sum -= i\n",
    "    else:\n",
    "        sum += i\n",
    "print(\"Sum of series 1 – 2 + 3 – 4 + 5 – 6 + 7 ... n :\",sum)"
   ]
  },
  {
   "cell_type": "markdown",
   "metadata": {},
   "source": [
    "### 08) WAP to print multiplication table of given number."
   ]
  },
  {
   "cell_type": "code",
   "execution_count": 14,
   "metadata": {},
   "outputs": [
    {
     "name": "stdout",
     "output_type": "stream",
     "text": [
      "Enter Number :2\n",
      "2 * 1 = 2\n",
      "2 * 2 = 4\n",
      "2 * 3 = 6\n",
      "2 * 4 = 8\n",
      "2 * 5 = 10\n",
      "2 * 6 = 12\n",
      "2 * 7 = 14\n",
      "2 * 8 = 16\n",
      "2 * 9 = 18\n",
      "2 * 10 = 20\n"
     ]
    }
   ],
   "source": [
    "n = int(input(\"Enter Number :\"))\n",
    "\n",
    "for i in range(1, 11):\n",
    "    print(n, \"*\" ,i , \"=\" , (n * i))"
   ]
  },
  {
   "cell_type": "markdown",
   "metadata": {},
   "source": [
    "### 09) WAP to find factorial of the given number."
   ]
  },
  {
   "cell_type": "code",
   "execution_count": 17,
   "metadata": {},
   "outputs": [
    {
     "name": "stdout",
     "output_type": "stream",
     "text": [
      "Enter Number :5\n",
      "Factorial is : 120\n"
     ]
    }
   ],
   "source": [
    "n = int(input(\"Enter Number :\"))\n",
    "fact = 1\n",
    "\n",
    "for i in range(1, n + 1):\n",
    "    fact = fact * i\n",
    "print(\"Factorial is :\",fact)"
   ]
  },
  {
   "cell_type": "markdown",
   "metadata": {},
   "source": [
    "### 10) WAP to find factors of the given number."
   ]
  },
  {
   "cell_type": "code",
   "execution_count": 20,
   "metadata": {},
   "outputs": [
    {
     "name": "stdout",
     "output_type": "stream",
     "text": [
      "Enter Number :10\n",
      "1\n",
      "2\n",
      "5\n",
      "10\n"
     ]
    }
   ],
   "source": [
    "n = int(input(\"Enter Number :\"))\n",
    "for i in range(1, n + 1):\n",
    "    if n % i == 0:\n",
    "        print(i)"
   ]
  },
  {
   "cell_type": "markdown",
   "metadata": {},
   "source": [
    "### 11) WAP to find whether the given number is prime or not."
   ]
  },
  {
   "cell_type": "code",
   "execution_count": 22,
   "metadata": {},
   "outputs": [
    {
     "name": "stdout",
     "output_type": "stream",
     "text": [
      "Enter Number :2\n",
      "Number is Prime\n"
     ]
    }
   ],
   "source": [
    "n = int(input(\"Enter Number :\"))\n",
    "count = 0\n",
    "\n",
    "for i in range(2,n):\n",
    "    if n % i == 0:\n",
    "        count += 1\n",
    "if count == 0:\n",
    "    print(\"Number is Prime\")\n",
    "else:\n",
    "    print(\"Number is not Prime\")"
   ]
  },
  {
   "cell_type": "markdown",
   "metadata": {},
   "source": [
    "### 12) WAP to print sum of digits of given number."
   ]
  },
  {
   "cell_type": "code",
   "execution_count": 24,
   "metadata": {},
   "outputs": [
    {
     "name": "stdout",
     "output_type": "stream",
     "text": [
      "Enter Number :555\n",
      "Sum of Digits is : 15\n"
     ]
    }
   ],
   "source": [
    "n = int(input(\"Enter Number :\"))\n",
    "sum = 0\n",
    "\n",
    "while n != 0:\n",
    "    rev = n % 10\n",
    "    sum += rev\n",
    "    n = int( n / 10 )\n",
    "print(\"Sum of Digits is :\",sum)"
   ]
  },
  {
   "cell_type": "markdown",
   "metadata": {},
   "source": [
    "### 13) WAP to check whether the given number is palindrome or not"
   ]
  },
  {
   "cell_type": "code",
   "execution_count": 26,
   "metadata": {},
   "outputs": [
    {
     "name": "stdout",
     "output_type": "stream",
     "text": [
      "Enter Number :121\n",
      "Number is Palindrome\n"
     ]
    }
   ],
   "source": [
    "n = int(input(\"Enter Number :\"))\n",
    "num = n\n",
    "rev = 0\n",
    "\n",
    "while n != 0:\n",
    "    rem = n % 10\n",
    "    rev = (rev * 10) + rem\n",
    "    n //= 10\n",
    "\n",
    "if num == rev:\n",
    "    print(\"Number is Palindrome\")\n",
    "else:\n",
    "    print(\"Number is not Palidrome\")"
   ]
  },
  {
   "cell_type": "markdown",
   "metadata": {},
   "source": [
    "### 14) WAP to print GCD of given two numbers."
   ]
  },
  {
   "cell_type": "code",
   "execution_count": 27,
   "metadata": {},
   "outputs": [
    {
     "name": "stdout",
     "output_type": "stream",
     "text": [
      "Enter Number :2\n",
      "Enter Number :4\n",
      "GCD is : 2\n"
     ]
    }
   ],
   "source": [
    "n1 = int(input(\"Enter Number :\"))\n",
    "n2 = int(input(\"Enter Number :\"))\n",
    "\n",
    "if n2 > n1:\n",
    "    n1,n2 = n2,n1\n",
    "\n",
    "while n2 != 0:\n",
    "    remainder = n1 % n2\n",
    "    n1 = n2\n",
    "    n2 = remainder\n",
    "\n",
    "print(\"GCD is :\",n1)"
   ]
  }
 ],
 "metadata": {
  "kernelspec": {
   "display_name": "Python 3 (ipykernel)",
   "language": "python",
   "name": "python3"
  },
  "language_info": {
   "codemirror_mode": {
    "name": "ipython",
    "version": 3
   },
   "file_extension": ".py",
   "mimetype": "text/x-python",
   "name": "python",
   "nbconvert_exporter": "python",
   "pygments_lexer": "ipython3",
   "version": "3.10.9"
  }
 },
 "nbformat": 4,
 "nbformat_minor": 4
}
